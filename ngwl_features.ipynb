{
  "nbformat": 4,
  "nbformat_minor": 0,
  "metadata": {
    "colab": {
      "name": "ngwl_features.ipynb",
      "provenance": [],
      "collapsed_sections": []
    },
    "kernelspec": {
      "name": "python3",
      "display_name": "Python 3"
    }
  },
  "cells": [
    {
      "cell_type": "markdown",
      "metadata": {
        "id": "Jf9nV2jnDYg3"
      },
      "source": [
        "loading data from kaggle to colab"
      ]
    },
    {
      "cell_type": "code",
      "metadata": {
        "id": "4T-yFkm0l8RZ"
      },
      "source": [
        "!pip install -q kaggle"
      ],
      "execution_count": null,
      "outputs": []
    },
    {
      "cell_type": "code",
      "metadata": {
        "id": "hPE-4uXrmI-z"
      },
      "source": [
        "from google.colab import files\n",
        "files.upload()"
      ],
      "execution_count": null,
      "outputs": []
    },
    {
      "cell_type": "code",
      "metadata": {
        "id": "K_hADSv7mTGy"
      },
      "source": [
        " !mkdir ~/.kaggle"
      ],
      "execution_count": null,
      "outputs": []
    },
    {
      "cell_type": "code",
      "metadata": {
        "id": "BqXUFHrompje"
      },
      "source": [
        "! cp kaggle.json ~/.kaggle/"
      ],
      "execution_count": null,
      "outputs": []
    },
    {
      "cell_type": "code",
      "metadata": {
        "id": "q5hsib2pmY4A"
      },
      "source": [
        " ! kaggle competitions download -c ngwl-predict-customer-churn --force"
      ],
      "execution_count": null,
      "outputs": []
    },
    {
      "cell_type": "markdown",
      "metadata": {
        "id": "jR0uRqMRDcgA"
      },
      "source": [
        "imports"
      ]
    },
    {
      "cell_type": "code",
      "metadata": {
        "id": "n8WWfbvbz6uw"
      },
      "source": [
        "import warnings\n",
        "warnings.filterwarnings('ignore')"
      ],
      "execution_count": null,
      "outputs": []
    },
    {
      "cell_type": "code",
      "metadata": {
        "id": "gg3mPWNFmbhM"
      },
      "source": [
        "import pandas as pd\n",
        "import numpy as np\n",
        "import itertools\n",
        "import gc\n",
        "from datetime import datetime, timedelta, date"
      ],
      "execution_count": null,
      "outputs": []
    },
    {
      "cell_type": "code",
      "metadata": {
        "id": "GQ4mPelO7671",
        "outputId": "7bb56109-0ac4-4d8f-d81b-088e48c7c4f2",
        "colab": {
          "base_uri": "https://localhost:8080/",
          "height": 35
        }
      },
      "source": [
        "from google.colab import drive\n",
        "drive.mount('/content/gdrive')"
      ],
      "execution_count": null,
      "outputs": [
        {
          "output_type": "stream",
          "text": [
            "Mounted at /content/gdrive\n"
          ],
          "name": "stdout"
        }
      ]
    },
    {
      "cell_type": "code",
      "metadata": {
        "id": "G9L5ynkks_bJ",
        "outputId": "ae890e21-6147-4c85-8ba9-38873949feb0",
        "colab": {
          "base_uri": "https://localhost:8080/",
          "height": 35
        }
      },
      "source": [
        "addresses = pd.read_csv('addresses.csv.zip')\n",
        "addresses.shape"
      ],
      "execution_count": null,
      "outputs": [
        {
          "output_type": "execute_result",
          "data": {
            "text/plain": [
              "(2766724, 2)"
            ]
          },
          "metadata": {
            "tags": []
          },
          "execution_count": 14
        }
      ]
    },
    {
      "cell_type": "code",
      "metadata": {
        "id": "RaGIswsHvIZX",
        "outputId": "01dbacd0-7769-4c49-85a5-32117d36e663",
        "colab": {
          "base_uri": "https://localhost:8080/",
          "height": 35
        }
      },
      "source": [
        "ship1 = pd.read_csv('shipments2020-01-01.csv.zip')\n",
        "ship2 = pd.read_csv('shipments2020-03-01.csv.zip')\n",
        "ship3 = pd.read_csv('shipments2020-04-30.csv.zip')\n",
        "ship4 = pd.read_csv('shipments2020-06-29.csv.zip')\n",
        "ship1.shape, ship2.shape, ship3.shape, ship4.shape"
      ],
      "execution_count": null,
      "outputs": [
        {
          "output_type": "execute_result",
          "data": {
            "text/plain": [
              "((141546, 20), (400963, 20), (845419, 20), (872758, 20))"
            ]
          },
          "metadata": {
            "tags": []
          },
          "execution_count": 15
        }
      ]
    },
    {
      "cell_type": "code",
      "metadata": {
        "id": "KxpcXLEJoiap",
        "outputId": "57083b49-ccb7-4840-ee25-c42c9a966b46",
        "colab": {
          "base_uri": "https://localhost:8080/",
          "height": 35
        }
      },
      "source": [
        "#concatenate all shipments\n",
        "all_shipments = pd.concat([ship1, ship2, ship3, ship4])\n",
        "del ship1, ship2, ship3, ship4\n",
        "gc.collect()"
      ],
      "execution_count": null,
      "outputs": [
        {
          "output_type": "execute_result",
          "data": {
            "text/plain": [
              "77"
            ]
          },
          "metadata": {
            "tags": []
          },
          "execution_count": 16
        }
      ]
    },
    {
      "cell_type": "code",
      "metadata": {
        "id": "RVObutkwqHML",
        "outputId": "9bb87883-c0f7-4f3d-9d2c-cec066d6a873",
        "colab": {
          "base_uri": "https://localhost:8080/",
          "height": 35
        }
      },
      "source": [
        "all_shipments.shape"
      ],
      "execution_count": null,
      "outputs": [
        {
          "output_type": "execute_result",
          "data": {
            "text/plain": [
              "(2260686, 20)"
            ]
          },
          "metadata": {
            "tags": []
          },
          "execution_count": 17
        }
      ]
    },
    {
      "cell_type": "code",
      "metadata": {
        "id": "pARjORh2r32U",
        "outputId": "56ad4375-492c-4406-b54f-e7959c0334f1",
        "colab": {
          "base_uri": "https://localhost:8080/",
          "height": 35
        }
      },
      "source": [
        "#get phone_id from addresses\n",
        "all_shipments = all_shipments.merge(addresses, left_on='ship_address_id', right_on='id', how='left').drop(['id'], axis=1).drop_duplicates()\n",
        "all_shipments.shape"
      ],
      "execution_count": null,
      "outputs": [
        {
          "output_type": "execute_result",
          "data": {
            "text/plain": [
              "(2260686, 21)"
            ]
          },
          "metadata": {
            "tags": []
          },
          "execution_count": 18
        }
      ]
    },
    {
      "cell_type": "code",
      "metadata": {
        "id": "Uv08vYhAtfdG"
      },
      "source": [
        "#get calendar month from order completion timestamp\n",
        "all_shipments['month'] = pd.to_datetime(all_shipments.order_completed_at).dt.month"
      ],
      "execution_count": null,
      "outputs": []
    },
    {
      "cell_type": "markdown",
      "metadata": {
        "id": "eDtf_5zs-8Ks"
      },
      "source": [
        "### features: nr of cancelled/completed orders"
      ]
    },
    {
      "cell_type": "code",
      "metadata": {
        "id": "nIMLUmZQtvTK"
      },
      "source": [
        "features = []\n",
        "#aggregate features for each month (April-Sep)\n",
        "for month in range(4, 10):\n",
        "  #take 3 months history\n",
        "  temp = all_shipments[(all_shipments.month<month)&(all_shipments.month>=month-3)]\n",
        "  #leave only cancelled/complete states\n",
        "  temp = temp[temp['s.order_state'].isin(['complete', 'canceled'])]\n",
        "  #get nr of cancelled/completed orders for each customer at each month\n",
        "  f = temp.pivot_table(index=['phone_id'], columns=['month', 's.order_state'], aggfunc='size', fill_value=0)\n",
        "  #rename columns\n",
        "  f.columns = ['canc_1', 'comp_1', 'canc_2', 'comp_2', 'canc_3', 'comp_3']\n",
        "  #change indices\n",
        "  f.index = f.index.astype(str)+'_2020-0'+str(month)\n",
        "  features.append(f)\n",
        "features_all = pd.concat(features)"
      ],
      "execution_count": null,
      "outputs": []
    },
    {
      "cell_type": "code",
      "metadata": {
        "id": "kk2FsN2O8B68"
      },
      "source": [
        "#save features\n",
        "features_all.to_pickle('/content/gdrive/My Drive/cancelled_completed_features.pkl')"
      ],
      "execution_count": null,
      "outputs": []
    },
    {
      "cell_type": "markdown",
      "metadata": {
        "id": "WNAQKeel_Agk"
      },
      "source": [
        "### features: statistics from shipments"
      ]
    },
    {
      "cell_type": "code",
      "metadata": {
        "id": "AX0ZSvKB_Ddv"
      },
      "source": [
        "features = []\n",
        "for month in range(4, 10):\n",
        "  temp = all_shipments[(all_shipments.month<month)&(all_shipments.month>=month-3)]\n",
        "  f = temp.groupby(['phone_id', 'month']).agg({'retailer':['nunique'], 'total_cost':[np.mean, 'max', 'min'], \n",
        "                         'total_weight':[np.mean, 'max', 'min'], 'rate': [np.count_nonzero, 'sum', 'max']}).unstack()\n",
        "  stat1, stat2 = ['mean', 'max', 'min'], ['count_not_zero', 'sum', 'max']\n",
        "  cols = ['ret_nr']+['cost_'+stat for stat in stat1]+['weight_'+stat for stat in stat1]+['rate_'+stat for stat in stat2]  \n",
        "  months = [1, 2, 3]\n",
        "  f.columns = [pair[0]+'_'+str(pair[1]) for pair in itertools.product(cols, months)]\n",
        "  f.index = f.index.astype(str)+'_2020-0'+str(month)\n",
        "  features.append(f)\n",
        "features_all = pd.concat(features).fillna(-1)"
      ],
      "execution_count": null,
      "outputs": []
    },
    {
      "cell_type": "code",
      "metadata": {
        "id": "MujMN_xfDv8A"
      },
      "source": [
        "#save data\n",
        "features_all.to_pickle('/content/gdrive/My Drive/retailer_other_stats_features.pkl')"
      ],
      "execution_count": null,
      "outputs": []
    },
    {
      "cell_type": "markdown",
      "metadata": {
        "id": "achNdazbTWPz"
      },
      "source": [
        "### features: statistics on delivery time"
      ]
    },
    {
      "cell_type": "code",
      "metadata": {
        "id": "oPn051zUTdaj"
      },
      "source": [
        "#get shipment duration in hours\n",
        "all_shipments['duration'] = (pd.to_datetime(all_shipments.shipped_at, format='%Y-%m-%d %H:%M:%S') - pd.to_datetime(all_shipments.shipment_starts_at, format='%Y-%m-%d %H:%M:%S')).astype('timedelta64[h]')"
      ],
      "execution_count": null,
      "outputs": []
    },
    {
      "cell_type": "code",
      "metadata": {
        "id": "1jwbOc4Shzo7",
        "outputId": "8bc45067-2cf2-4c73-c6f8-00400718af31",
        "colab": {
          "base_uri": "https://localhost:8080/",
          "height": 35
        }
      },
      "source": [
        "lb = all_shipments.duration.quantile(0.01)\n",
        "ub = all_shipments.duration.quantile(0.99)\n",
        "lb, ub"
      ],
      "execution_count": null,
      "outputs": [
        {
          "output_type": "execute_result",
          "data": {
            "text/plain": [
              "(-1.0, 4.0)"
            ]
          },
          "metadata": {
            "tags": []
          },
          "execution_count": 18
        }
      ]
    },
    {
      "cell_type": "code",
      "metadata": {
        "id": "t1RUF11Nh7JO"
      },
      "source": [
        "#change outliers to nan\n",
        "all_shipments['duration'] = np.where((all_shipments['duration']<lb)|(all_shipments['duration']>ub), np.nan, all_shipments['duration'])"
      ],
      "execution_count": null,
      "outputs": []
    },
    {
      "cell_type": "code",
      "metadata": {
        "id": "jcH8UV0ZVuOS"
      },
      "source": [
        "features = []\n",
        "for month in range(4, 10):\n",
        "  temp = all_shipments[(all_shipments.month<month)&(all_shipments.month>=month-3)]\n",
        "  f = temp.groupby(['phone_id', 'month']).agg({'duration':[np.mean, 'max', 'min']}).unstack()\n",
        "  stats = ['mean', 'max', 'min']\n",
        "  cols = ['duration_'+stat for stat in stats]\n",
        "  months = [1, 2, 3]\n",
        "  f.columns = [pair[0]+'_'+str(pair[1]) for pair in itertools.product(cols, months)]\n",
        "  f.index = f.index.astype(str)+'_2020-0'+str(month)\n",
        "  features.append(f)\n",
        "features_all = pd.concat(features).fillna(-1)"
      ],
      "execution_count": null,
      "outputs": []
    },
    {
      "cell_type": "code",
      "metadata": {
        "id": "vD7Ytbipj-Vb"
      },
      "source": [
        "#save data\n",
        "features_all.to_pickle('/content/gdrive/My Drive/duration_features.pkl')"
      ],
      "execution_count": null,
      "outputs": []
    },
    {
      "cell_type": "markdown",
      "metadata": {
        "id": "AU2P2NCRlt4F"
      },
      "source": [
        "### features: nr of messages received"
      ]
    },
    {
      "cell_type": "code",
      "metadata": {
        "id": "LeaYimn-kXhW",
        "outputId": "b09615b8-913d-4d4a-b1c5-d67bc3c7e58a",
        "colab": {
          "base_uri": "https://localhost:8080/",
          "height": 35
        }
      },
      "source": [
        "messages = pd.read_csv('messages.csv.zip')\n",
        "messages.shape"
      ],
      "execution_count": null,
      "outputs": [
        {
          "output_type": "execute_result",
          "data": {
            "text/plain": [
              "(18275907, 3)"
            ]
          },
          "metadata": {
            "tags": []
          },
          "execution_count": 57
        }
      ]
    },
    {
      "cell_type": "code",
      "metadata": {
        "id": "7gvAy6VMnmO7"
      },
      "source": [
        "#change timestamp to date\n",
        "messages.sent = pd.to_datetime(messages.sent,unit='s')\n",
        "#get month\n",
        "messages['month'] = messages.sent.dt.month"
      ],
      "execution_count": null,
      "outputs": []
    },
    {
      "cell_type": "code",
      "metadata": {
        "id": "AlkfKI5Ao3Ty"
      },
      "source": [
        "#get nr of messages per month\n",
        "agg_messages = messages.groupby(['user_id', 'month']).sent.count().reset_index()"
      ],
      "execution_count": null,
      "outputs": []
    },
    {
      "cell_type": "code",
      "metadata": {
        "id": "FTBEp0LfpOWX"
      },
      "source": [
        "#get phone_id from shipments\n",
        "agg_messages = agg_messages.merge(all_shipments[['user_id', 'phone_id']], left_on='user_id', right_on='user_id').drop_duplicates()"
      ],
      "execution_count": null,
      "outputs": []
    },
    {
      "cell_type": "code",
      "metadata": {
        "id": "aguymPkqqT80"
      },
      "source": [
        "features = []\n",
        "for month in range(4, 10):\n",
        "  temp = agg_messages[(agg_messages.month<month)&(agg_messages.month>=month-3)]\n",
        "  f = temp.groupby(['phone_id', 'month']).sent.sum().unstack()\n",
        "  months = [1, 2, 3]\n",
        "  f.columns = ['messages_sent'+'_'+str(m) for m in months]\n",
        "  f.index = f.index.astype(str)+'_2020-0'+str(month)\n",
        "  features.append(f)\n",
        "features_all = pd.concat(features).fillna(0)"
      ],
      "execution_count": null,
      "outputs": []
    },
    {
      "cell_type": "code",
      "metadata": {
        "id": "Q6HPvg37ryEO"
      },
      "source": [
        "#save data\n",
        "features_all.to_pickle('/content/gdrive/My Drive/messages_sent.pkl')"
      ],
      "execution_count": null,
      "outputs": []
    },
    {
      "cell_type": "markdown",
      "metadata": {
        "id": "bIc5dnNdsaML"
      },
      "source": [
        "#### features: nr of messages received per type"
      ]
    },
    {
      "cell_type": "code",
      "metadata": {
        "id": "KkK2DlmSr9ST",
        "outputId": "24b2f9d1-1520-4457-ecae-5b264852e4ac",
        "colab": {
          "base_uri": "https://localhost:8080/",
          "height": 35
        }
      },
      "source": [
        "actions = pd.read_csv('actions.csv')\n",
        "actions.shape"
      ],
      "execution_count": null,
      "outputs": [
        {
          "output_type": "execute_result",
          "data": {
            "text/plain": [
              "(962, 4)"
            ]
          },
          "metadata": {
            "tags": []
          },
          "execution_count": 52
        }
      ]
    },
    {
      "cell_type": "code",
      "metadata": {
        "id": "xw4s5le7skKP",
        "outputId": "583cd8e6-f4d5-4fc1-e9a1-011d855bb388",
        "colab": {
          "base_uri": "https://localhost:8080/",
          "height": 35
        }
      },
      "source": [
        "#get action type\n",
        "messages = messages.merge(actions[['id', 'type']], left_on='action_id', right_on='id', how='left').drop(['id'], axis=1)\n",
        "messages.shape"
      ],
      "execution_count": null,
      "outputs": [
        {
          "output_type": "execute_result",
          "data": {
            "text/plain": [
              "(18275907, 5)"
            ]
          },
          "metadata": {
            "tags": []
          },
          "execution_count": 62
        }
      ]
    },
    {
      "cell_type": "code",
      "metadata": {
        "id": "wWVgqkX5tBib"
      },
      "source": [
        "agg_messages_type = messages.groupby(['user_id', 'month', 'type']).sent.count().reset_index()"
      ],
      "execution_count": null,
      "outputs": []
    },
    {
      "cell_type": "code",
      "metadata": {
        "id": "wNkjOBlcur3Z"
      },
      "source": [
        "agg_messages_type = agg_messages_type.merge(all_shipments[['user_id', 'phone_id']], left_on='user_id', right_on='user_id').drop_duplicates()"
      ],
      "execution_count": null,
      "outputs": []
    },
    {
      "cell_type": "code",
      "metadata": {
        "id": "TbiQwJDsu1gP",
        "outputId": "b123cce2-30c7-45c2-b7ab-146d6662f1d0",
        "colab": {
          "base_uri": "https://localhost:8080/",
          "height": 88
        }
      },
      "source": [
        "agg_messages_type.type.value_counts()"
      ],
      "execution_count": null,
      "outputs": [
        {
          "output_type": "execute_result",
          "data": {
            "text/plain": [
              "push     1789688\n",
              "email     968766\n",
              "sms       149988\n",
              "Name: type, dtype: int64"
            ]
          },
          "metadata": {
            "tags": []
          },
          "execution_count": 159
        }
      ]
    },
    {
      "cell_type": "code",
      "metadata": {
        "id": "gwYBnxuOvAme",
        "outputId": "586dab84-2ab9-41ee-f1b9-d0981344f66a",
        "colab": {
          "base_uri": "https://localhost:8080/",
          "height": 52
        }
      },
      "source": [
        "#sms were started only in August\n",
        "agg_messages_type[agg_messages_type.type=='sms'].month.value_counts()"
      ],
      "execution_count": null,
      "outputs": [
        {
          "output_type": "execute_result",
          "data": {
            "text/plain": [
              "8    149988\n",
              "Name: month, dtype: int64"
            ]
          },
          "metadata": {
            "tags": []
          },
          "execution_count": 160
        }
      ]
    },
    {
      "cell_type": "code",
      "metadata": {
        "id": "RcLX7EwDvcFq"
      },
      "source": [
        "#changed message types to push/other\n",
        "agg_messages_type.loc[agg_messages_type.type!='push', 'type'] = 'other'"
      ],
      "execution_count": null,
      "outputs": []
    },
    {
      "cell_type": "code",
      "metadata": {
        "id": "oFjIEvCsvxih",
        "outputId": "3f539581-eef8-4a9b-b6f6-125dbf0a8058",
        "colab": {
          "base_uri": "https://localhost:8080/",
          "height": 70
        }
      },
      "source": [
        "agg_messages_type.type.value_counts()"
      ],
      "execution_count": null,
      "outputs": [
        {
          "output_type": "execute_result",
          "data": {
            "text/plain": [
              "push     1789688\n",
              "other    1118754\n",
              "Name: type, dtype: int64"
            ]
          },
          "metadata": {
            "tags": []
          },
          "execution_count": 162
        }
      ]
    },
    {
      "cell_type": "code",
      "metadata": {
        "id": "auotQxa-wPEU",
        "outputId": "bce92589-2d3f-493a-db0e-e25a4e829f97",
        "colab": {
          "base_uri": "https://localhost:8080/",
          "height": 124
        }
      },
      "source": [
        "features = []\n",
        "for month in range(4, 10):\n",
        "  temp = agg_messages_type[(agg_messages_type.month<month)&(agg_messages_type.month>=month-3)]\n",
        "  f = temp.groupby(['phone_id', 'month', 'type']).sent.sum().unstack().unstack()\n",
        "  months = [1, 2, 3]\n",
        "  types = ['other', 'push']\n",
        "  f.columns = [pair[0]+'_'+str(pair[1]) for pair in itertools.product(types, months)]\n",
        "  f.index = f.index.astype(str)+'_2020-0'+str(month)\n",
        "  print(month, f.shape)\n",
        "  features.append(f)\n",
        "features_all = pd.concat(features).fillna(0)"
      ],
      "execution_count": null,
      "outputs": [
        {
          "output_type": "stream",
          "text": [
            "4 (148620, 6)\n",
            "5 (243744, 6)\n",
            "6 (346423, 6)\n",
            "7 (411912, 6)\n",
            "8 (461577, 6)\n",
            "9 (495648, 6)\n"
          ],
          "name": "stdout"
        }
      ]
    },
    {
      "cell_type": "code",
      "metadata": {
        "id": "Z0DQ03fNficq",
        "outputId": "0f7bcb9e-ffe6-48d7-918d-ef8eb7d18787",
        "colab": {
          "base_uri": "https://localhost:8080/",
          "height": 35
        }
      },
      "source": [
        "features_all.shape"
      ],
      "execution_count": null,
      "outputs": [
        {
          "output_type": "execute_result",
          "data": {
            "text/plain": [
              "(2107924, 6)"
            ]
          },
          "metadata": {
            "tags": []
          },
          "execution_count": 171
        }
      ]
    },
    {
      "cell_type": "code",
      "metadata": {
        "id": "1BYnFKKyU7Nr"
      },
      "source": [
        "#save data\n",
        "features_all.to_csv('/content/gdrive/My Drive/messages_sent_by_type.csv')"
      ],
      "execution_count": null,
      "outputs": []
    },
    {
      "cell_type": "code",
      "metadata": {
        "id": "RkL08_KUwbJ0"
      },
      "source": [
        "#save data\n",
        "features_all.to_pickle('/content/gdrive/My Drive/messages_sent_by_type.pkl')"
      ],
      "execution_count": null,
      "outputs": []
    },
    {
      "cell_type": "markdown",
      "metadata": {
        "id": "_tYgX-xn7tnC"
      },
      "source": [
        "### user profile features"
      ]
    },
    {
      "cell_type": "code",
      "metadata": {
        "id": "ryM5nlvbwg1A",
        "outputId": "94d3f9ad-9d2d-4b16-baba-1d6d6cc75e65",
        "colab": {
          "base_uri": "https://localhost:8080/",
          "height": 35
        }
      },
      "source": [
        "users = pd.read_csv('user_profiles.csv.zip')\n",
        "users.shape"
      ],
      "execution_count": null,
      "outputs": [
        {
          "output_type": "execute_result",
          "data": {
            "text/plain": [
              "(396820, 3)"
            ]
          },
          "metadata": {
            "tags": []
          },
          "execution_count": 149
        }
      ]
    },
    {
      "cell_type": "code",
      "metadata": {
        "id": "t9OcDDRV78Hl",
        "outputId": "43c6d930-ba26-458a-bc73-557121369304",
        "colab": {
          "base_uri": "https://localhost:8080/",
          "height": 35
        }
      },
      "source": [
        "#add phone_id\n",
        "users = users.merge(all_shipments[['user_id', 'phone_id']], left_on='user_id', right_on='user_id').drop_duplicates()\n",
        "users.shape"
      ],
      "execution_count": null,
      "outputs": [
        {
          "output_type": "execute_result",
          "data": {
            "text/plain": [
              "(85073, 4)"
            ]
          },
          "metadata": {
            "tags": []
          },
          "execution_count": 150
        }
      ]
    },
    {
      "cell_type": "code",
      "metadata": {
        "id": "iSn0gUxc8Jy4",
        "outputId": "57755ce3-845f-499d-b595-661c18623c6f",
        "colab": {
          "base_uri": "https://localhost:8080/",
          "height": 141
        }
      },
      "source": [
        "#extract city from shipments\n",
        "city = all_shipments.groupby('phone_id')['s.city_name'].apply(lambda x:x.value_counts().index[0])\n"
      ],
      "execution_count": null,
      "outputs": [
        {
          "output_type": "execute_result",
          "data": {
            "text/plain": [
              "phone_id\n",
              "2       Москва\n",
              "3       Москва\n",
              "4       Москва\n",
              "5    Челябинск\n",
              "6       Москва\n",
              "Name: s.city_name, dtype: object"
            ]
          },
          "metadata": {
            "tags": []
          },
          "execution_count": 100
        }
      ]
    },
    {
      "cell_type": "code",
      "metadata": {
        "id": "X8f7A3MbeY6u"
      },
      "source": [
        "users = users.merge(city, left_on='phone_id', right_index=True)\n",
        "users.drop(['user_id'], axis=1, inplace=True)"
      ],
      "execution_count": null,
      "outputs": []
    },
    {
      "cell_type": "code",
      "metadata": {
        "id": "Sitgzg3B-y2U"
      },
      "source": [
        "#change birthdate to age\n",
        "def get_age(bdate):\n",
        "    today = date.today()\n",
        "    return today.year - bdate.year - ((today.month, today.day) < (bdate.month, bdate.day))\n",
        "users['bdate'] = pd.to_datetime(users['bdate'], errors='coerce')\n",
        "users['age'] = users.bdate.apply(get_age)"
      ],
      "execution_count": null,
      "outputs": []
    },
    {
      "cell_type": "code",
      "metadata": {
        "id": "ytDx38qOB9_z"
      },
      "source": [
        "users.drop(['bdate'], axis=1, inplace=True)"
      ],
      "execution_count": null,
      "outputs": []
    },
    {
      "cell_type": "code",
      "metadata": {
        "id": "0D4Fo5OUCFCW"
      },
      "source": [
        "users.rename(columns={'s.city_name':'city'}, inplace=True)"
      ],
      "execution_count": null,
      "outputs": []
    },
    {
      "cell_type": "code",
      "metadata": {
        "id": "N735cKmNCMUE"
      },
      "source": [
        "#save data\n",
        "users.to_pickle('/content/gdrive/My Drive/user_features.pkl')"
      ],
      "execution_count": null,
      "outputs": []
    },
    {
      "cell_type": "code",
      "metadata": {
        "id": "zy-D2_pDCQgT"
      },
      "source": [
        "users.to_csv('/content/gdrive/My Drive/user_features.csv')"
      ],
      "execution_count": null,
      "outputs": []
    }
  ]
}