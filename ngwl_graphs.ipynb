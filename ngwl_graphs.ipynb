{
  "nbformat": 4,
  "nbformat_minor": 0,
  "metadata": {
    "colab": {
      "name": "ngwl_graphs.ipynb",
      "provenance": [],
      "collapsed_sections": []
    },
    "kernelspec": {
      "name": "python3",
      "display_name": "Python 3"
    }
  },
  "cells": [
    {
      "cell_type": "markdown",
      "metadata": {
        "id": "Jf9nV2jnDYg3"
      },
      "source": [
        "loading data from kaggle to colab"
      ]
    },
    {
      "cell_type": "code",
      "metadata": {
        "id": "4T-yFkm0l8RZ"
      },
      "source": [
        "!pip install -q kaggle"
      ],
      "execution_count": 5,
      "outputs": []
    },
    {
      "cell_type": "code",
      "metadata": {
        "id": "hPE-4uXrmI-z"
      },
      "source": [
        "from google.colab import files\n",
        "files.upload()"
      ],
      "execution_count": null,
      "outputs": []
    },
    {
      "cell_type": "code",
      "metadata": {
        "id": "K_hADSv7mTGy",
        "outputId": "e6745c2d-40ad-4335-e4e7-9233dbcd3d22",
        "colab": {
          "base_uri": "https://localhost:8080/",
          "height": 35
        }
      },
      "source": [
        " !mkdir ~/.kaggle"
      ],
      "execution_count": 8,
      "outputs": [
        {
          "output_type": "stream",
          "text": [
            "mkdir: cannot create directory ‘/root/.kaggle’: File exists\n"
          ],
          "name": "stdout"
        }
      ]
    },
    {
      "cell_type": "code",
      "metadata": {
        "id": "BqXUFHrompje"
      },
      "source": [
        "! cp kaggle.json ~/.kaggle/"
      ],
      "execution_count": 9,
      "outputs": []
    },
    {
      "cell_type": "code",
      "metadata": {
        "id": "q5hsib2pmY4A"
      },
      "source": [
        " ! kaggle competitions download -c ngwl-predict-customer-churn --force"
      ],
      "execution_count": null,
      "outputs": []
    },
    {
      "cell_type": "markdown",
      "metadata": {
        "id": "jR0uRqMRDcgA"
      },
      "source": [
        "imports"
      ]
    },
    {
      "cell_type": "code",
      "metadata": {
        "id": "n8WWfbvbz6uw"
      },
      "source": [
        "import warnings\n",
        "warnings.filterwarnings('ignore')"
      ],
      "execution_count": 11,
      "outputs": []
    },
    {
      "cell_type": "code",
      "metadata": {
        "id": "gg3mPWNFmbhM"
      },
      "source": [
        "import pandas as pd\n",
        "import numpy as np\n",
        "import itertools\n",
        "import gc\n",
        "from datetime import datetime, timedelta, date"
      ],
      "execution_count": 12,
      "outputs": []
    },
    {
      "cell_type": "code",
      "metadata": {
        "id": "GQ4mPelO7671",
        "outputId": "7bb56109-0ac4-4d8f-d81b-088e48c7c4f2",
        "colab": {
          "base_uri": "https://localhost:8080/",
          "height": 35
        }
      },
      "source": [
        "from google.colab import drive\n",
        "drive.mount('/content/gdrive')"
      ],
      "execution_count": 13,
      "outputs": [
        {
          "output_type": "stream",
          "text": [
            "Mounted at /content/gdrive\n"
          ],
          "name": "stdout"
        }
      ]
    },
    {
      "cell_type": "code",
      "metadata": {
        "id": "G9L5ynkks_bJ",
        "outputId": "ae890e21-6147-4c85-8ba9-38873949feb0",
        "colab": {
          "base_uri": "https://localhost:8080/",
          "height": 35
        }
      },
      "source": [
        "addresses = pd.read_csv('addresses.csv.zip')\n",
        "addresses.shape"
      ],
      "execution_count": 14,
      "outputs": [
        {
          "output_type": "execute_result",
          "data": {
            "text/plain": [
              "(2766724, 2)"
            ]
          },
          "metadata": {
            "tags": []
          },
          "execution_count": 14
        }
      ]
    },
    {
      "cell_type": "code",
      "metadata": {
        "id": "RaGIswsHvIZX",
        "outputId": "01dbacd0-7769-4c49-85a5-32117d36e663",
        "colab": {
          "base_uri": "https://localhost:8080/",
          "height": 35
        }
      },
      "source": [
        "ship1 = pd.read_csv('shipments2020-01-01.csv.zip')\n",
        "ship2 = pd.read_csv('shipments2020-03-01.csv.zip')\n",
        "ship3 = pd.read_csv('shipments2020-04-30.csv.zip')\n",
        "ship4 = pd.read_csv('shipments2020-06-29.csv.zip')\n",
        "ship1.shape, ship2.shape, ship3.shape, ship4.shape"
      ],
      "execution_count": 15,
      "outputs": [
        {
          "output_type": "execute_result",
          "data": {
            "text/plain": [
              "((141546, 20), (400963, 20), (845419, 20), (872758, 20))"
            ]
          },
          "metadata": {
            "tags": []
          },
          "execution_count": 15
        }
      ]
    },
    {
      "cell_type": "code",
      "metadata": {
        "id": "KxpcXLEJoiap",
        "outputId": "57083b49-ccb7-4840-ee25-c42c9a966b46",
        "colab": {
          "base_uri": "https://localhost:8080/",
          "height": 35
        }
      },
      "source": [
        "#concatenate all shipments\n",
        "all_shipments = pd.concat([ship1, ship2, ship3, ship4])\n",
        "del ship1, ship2, ship3, ship4\n",
        "gc.collect()"
      ],
      "execution_count": 16,
      "outputs": [
        {
          "output_type": "execute_result",
          "data": {
            "text/plain": [
              "77"
            ]
          },
          "metadata": {
            "tags": []
          },
          "execution_count": 16
        }
      ]
    },
    {
      "cell_type": "code",
      "metadata": {
        "id": "RVObutkwqHML",
        "outputId": "9bb87883-c0f7-4f3d-9d2c-cec066d6a873",
        "colab": {
          "base_uri": "https://localhost:8080/",
          "height": 35
        }
      },
      "source": [
        "all_shipments.shape"
      ],
      "execution_count": 17,
      "outputs": [
        {
          "output_type": "execute_result",
          "data": {
            "text/plain": [
              "(2260686, 20)"
            ]
          },
          "metadata": {
            "tags": []
          },
          "execution_count": 17
        }
      ]
    },
    {
      "cell_type": "code",
      "metadata": {
        "id": "pARjORh2r32U",
        "outputId": "56ad4375-492c-4406-b54f-e7959c0334f1",
        "colab": {
          "base_uri": "https://localhost:8080/",
          "height": 35
        }
      },
      "source": [
        "#get phone_id from addresses\n",
        "all_shipments = all_shipments.merge(addresses, left_on='ship_address_id', right_on='id', how='left').drop(['id'], axis=1).drop_duplicates()\n",
        "all_shipments.shape"
      ],
      "execution_count": 18,
      "outputs": [
        {
          "output_type": "execute_result",
          "data": {
            "text/plain": [
              "(2260686, 21)"
            ]
          },
          "metadata": {
            "tags": []
          },
          "execution_count": 18
        }
      ]
    },
    {
      "cell_type": "code",
      "metadata": {
        "id": "Uv08vYhAtfdG"
      },
      "source": [
        "#get calendar month from order completion timestamp\n",
        "all_shipments['month'] = pd.to_datetime(all_shipments.order_completed_at).dt.month"
      ],
      "execution_count": 19,
      "outputs": []
    },
    {
      "cell_type": "markdown",
      "metadata": {
        "id": "HGAM0jpdJtUL"
      },
      "source": [
        "### График бесплатной доставки"
      ]
    },
    {
      "cell_type": "code",
      "metadata": {
        "id": "3W6B3kcxrpYH"
      },
      "source": [
        "all_shipments['zero_cost'] = all_shipments.total_cost.apply(lambda x: int(x==0))"
      ],
      "execution_count": 23,
      "outputs": []
    },
    {
      "cell_type": "code",
      "metadata": {
        "id": "TkDu7Om2U3sE",
        "outputId": "8cc55b8b-f41f-4e38-a500-33b0e71140f0",
        "colab": {
          "base_uri": "https://localhost:8080/",
          "height": 70
        }
      },
      "source": [
        "all_shipments.zero_cost.value_counts()"
      ],
      "execution_count": 25,
      "outputs": [
        {
          "output_type": "execute_result",
          "data": {
            "text/plain": [
              "0    1766668\n",
              "1     494018\n",
              "Name: zero_cost, dtype: int64"
            ]
          },
          "metadata": {
            "tags": []
          },
          "execution_count": 25
        }
      ]
    },
    {
      "cell_type": "code",
      "metadata": {
        "id": "c7MY202bp5Au",
        "outputId": "7773db01-885c-46d6-9d50-aec842b90684",
        "colab": {
          "base_uri": "https://localhost:8080/",
          "height": 212
        }
      },
      "source": [
        "all_shipments.groupby('month').zero_cost.size()"
      ],
      "execution_count": 28,
      "outputs": [
        {
          "output_type": "execute_result",
          "data": {
            "text/plain": [
              "month\n",
              "1      60426\n",
              "2      81252\n",
              "3     155755\n",
              "4     258195\n",
              "5     441274\n",
              "6     414987\n",
              "7     419985\n",
              "8     428807\n",
              "12         5\n",
              "Name: zero_cost, dtype: int64"
            ]
          },
          "metadata": {
            "tags": []
          },
          "execution_count": 28
        }
      ]
    },
    {
      "cell_type": "code",
      "metadata": {
        "id": "q-HReGJIrd5x"
      },
      "source": [
        "cost = all_shipments.pivot_table(index=['month'], columns='zero_cost', aggfunc='size', fill_value=0)\n",
        "cost.columns = ['cost', 'no_cost']"
      ],
      "execution_count": 30,
      "outputs": []
    },
    {
      "cell_type": "code",
      "metadata": {
        "id": "wP_bLeH5sJ7i",
        "outputId": "36b35100-cc72-4611-a784-646b59f11756",
        "colab": {
          "base_uri": "https://localhost:8080/",
          "height": 352
        }
      },
      "source": [
        "cost"
      ],
      "execution_count": 31,
      "outputs": [
        {
          "output_type": "execute_result",
          "data": {
            "text/html": [
              "<div>\n",
              "<style scoped>\n",
              "    .dataframe tbody tr th:only-of-type {\n",
              "        vertical-align: middle;\n",
              "    }\n",
              "\n",
              "    .dataframe tbody tr th {\n",
              "        vertical-align: top;\n",
              "    }\n",
              "\n",
              "    .dataframe thead th {\n",
              "        text-align: right;\n",
              "    }\n",
              "</style>\n",
              "<table border=\"1\" class=\"dataframe\">\n",
              "  <thead>\n",
              "    <tr style=\"text-align: right;\">\n",
              "      <th></th>\n",
              "      <th>cost</th>\n",
              "      <th>no_cost</th>\n",
              "    </tr>\n",
              "    <tr>\n",
              "      <th>month</th>\n",
              "      <th></th>\n",
              "      <th></th>\n",
              "    </tr>\n",
              "  </thead>\n",
              "  <tbody>\n",
              "    <tr>\n",
              "      <th>1</th>\n",
              "      <td>48519</td>\n",
              "      <td>11907</td>\n",
              "    </tr>\n",
              "    <tr>\n",
              "      <th>2</th>\n",
              "      <td>68781</td>\n",
              "      <td>12471</td>\n",
              "    </tr>\n",
              "    <tr>\n",
              "      <th>3</th>\n",
              "      <td>128527</td>\n",
              "      <td>27228</td>\n",
              "    </tr>\n",
              "    <tr>\n",
              "      <th>4</th>\n",
              "      <td>242392</td>\n",
              "      <td>15803</td>\n",
              "    </tr>\n",
              "    <tr>\n",
              "      <th>5</th>\n",
              "      <td>378108</td>\n",
              "      <td>63166</td>\n",
              "    </tr>\n",
              "    <tr>\n",
              "      <th>6</th>\n",
              "      <td>309125</td>\n",
              "      <td>105862</td>\n",
              "    </tr>\n",
              "    <tr>\n",
              "      <th>7</th>\n",
              "      <td>315289</td>\n",
              "      <td>104696</td>\n",
              "    </tr>\n",
              "    <tr>\n",
              "      <th>8</th>\n",
              "      <td>275925</td>\n",
              "      <td>152882</td>\n",
              "    </tr>\n",
              "    <tr>\n",
              "      <th>12</th>\n",
              "      <td>2</td>\n",
              "      <td>3</td>\n",
              "    </tr>\n",
              "  </tbody>\n",
              "</table>\n",
              "</div>"
            ],
            "text/plain": [
              "         cost  no_cost\n",
              "month                 \n",
              "1       48519    11907\n",
              "2       68781    12471\n",
              "3      128527    27228\n",
              "4      242392    15803\n",
              "5      378108    63166\n",
              "6      309125   105862\n",
              "7      315289   104696\n",
              "8      275925   152882\n",
              "12          2        3"
            ]
          },
          "metadata": {
            "tags": []
          },
          "execution_count": 31
        }
      ]
    },
    {
      "cell_type": "code",
      "metadata": {
        "id": "K_dYFt7hsmU8"
      },
      "source": [
        "cost.drop([12], inplace=True)"
      ],
      "execution_count": 34,
      "outputs": []
    },
    {
      "cell_type": "code",
      "metadata": {
        "id": "b_WK3pfAsYRa",
        "outputId": "964a3ea8-14fe-4a1f-b0bb-f321f7b02611",
        "colab": {
          "base_uri": "https://localhost:8080/",
          "height": 310
        }
      },
      "source": [
        "cost_norm = cost.div(cost.sum(axis=1), axis=0).fillna(0)*100\n",
        "ax = cost_norm.no_cost.plot(kind='bar', title='Процент заказов с бесплатной доставкой')\n",
        "ax.set_xlabel(\"месяцы\")\n",
        "ax.set_ylabel(\"процент заказов\")"
      ],
      "execution_count": 150,
      "outputs": [
        {
          "output_type": "execute_result",
          "data": {
            "text/plain": [
              "Text(0, 0.5, 'процент заказов')"
            ]
          },
          "metadata": {
            "tags": []
          },
          "execution_count": 150
        },
        {
          "output_type": "display_data",
          "data": {
            "image/png": "[encoded data removed]",
            "text/plain": [
              "<Figure size 432x288 with 1 Axes>"
            ]
          },
          "metadata": {
            "tags": [],
            "needs_background": "light"
          }
        }
      ]
    },
    {
      "cell_type": "markdown",
      "metadata": {
        "id": "MMAtYebiJqia"
      },
      "source": [
        "### График: пользователи/кол-во магазинов по месяцам"
      ]
    },
    {
      "cell_type": "code",
      "metadata": {
        "id": "kHxJ9ox7zJ7I"
      },
      "source": [
        "retailer_month = all_shipments.groupby(['phone_id', 'month']).retailer.nunique().reset_index()"
      ],
      "execution_count": 117,
      "outputs": []
    },
    {
      "cell_type": "code",
      "metadata": {
        "id": "8OZ3cZHS9pi3"
      },
      "source": [
        "grouped_retail = retailer_month.groupby(['month', 'retailer']).phone_id.count().unstack().fillna(0).drop([12])"
      ],
      "execution_count": 133,
      "outputs": []
    },
    {
      "cell_type": "code",
      "metadata": {
        "id": "wFZw3Sev81zk"
      },
      "source": [
        "grouped_retail = grouped_retail.div(grouped_retail.sum(axis=1), axis=0).fillna(0)"
      ],
      "execution_count": 134,
      "outputs": []
    },
    {
      "cell_type": "code",
      "metadata": {
        "id": "juK9R4YG-DOK",
        "outputId": "a2f762f9-bda1-45c9-a897-3a7f20c93dac",
        "colab": {
          "base_uri": "https://localhost:8080/",
          "height": 321
        }
      },
      "source": [
        "grouped_retail"
      ],
      "execution_count": 137,
      "outputs": [
        {
          "output_type": "execute_result",
          "data": {
            "text/html": [
              "<div>\n",
              "<style scoped>\n",
              "    .dataframe tbody tr th:only-of-type {\n",
              "        vertical-align: middle;\n",
              "    }\n",
              "\n",
              "    .dataframe tbody tr th {\n",
              "        vertical-align: top;\n",
              "    }\n",
              "\n",
              "    .dataframe thead th {\n",
              "        text-align: right;\n",
              "    }\n",
              "</style>\n",
              "<table border=\"1\" class=\"dataframe\">\n",
              "  <thead>\n",
              "    <tr style=\"text-align: right;\">\n",
              "      <th>retailer</th>\n",
              "      <th>1</th>\n",
              "      <th>2</th>\n",
              "      <th>3</th>\n",
              "      <th>4</th>\n",
              "      <th>5</th>\n",
              "      <th>6</th>\n",
              "      <th>7</th>\n",
              "      <th>11</th>\n",
              "      <th>14</th>\n",
              "      <th>23</th>\n",
              "    </tr>\n",
              "    <tr>\n",
              "      <th>month</th>\n",
              "      <th></th>\n",
              "      <th></th>\n",
              "      <th></th>\n",
              "      <th></th>\n",
              "      <th></th>\n",
              "      <th></th>\n",
              "      <th></th>\n",
              "      <th></th>\n",
              "      <th></th>\n",
              "      <th></th>\n",
              "    </tr>\n",
              "  </thead>\n",
              "  <tbody>\n",
              "    <tr>\n",
              "      <th>1</th>\n",
              "      <td>0.962346</td>\n",
              "      <td>0.037282</td>\n",
              "      <td>0.000266</td>\n",
              "      <td>0.000080</td>\n",
              "      <td>0.000027</td>\n",
              "      <td>0.000000</td>\n",
              "      <td>0.000000</td>\n",
              "      <td>0.000000</td>\n",
              "      <td>0.000000</td>\n",
              "      <td>0.000000</td>\n",
              "    </tr>\n",
              "    <tr>\n",
              "      <th>2</th>\n",
              "      <td>0.941878</td>\n",
              "      <td>0.057625</td>\n",
              "      <td>0.000414</td>\n",
              "      <td>0.000062</td>\n",
              "      <td>0.000021</td>\n",
              "      <td>0.000000</td>\n",
              "      <td>0.000000</td>\n",
              "      <td>0.000000</td>\n",
              "      <td>0.000000</td>\n",
              "      <td>0.000000</td>\n",
              "    </tr>\n",
              "    <tr>\n",
              "      <th>3</th>\n",
              "      <td>0.894943</td>\n",
              "      <td>0.103784</td>\n",
              "      <td>0.001185</td>\n",
              "      <td>0.000078</td>\n",
              "      <td>0.000011</td>\n",
              "      <td>0.000000</td>\n",
              "      <td>0.000000</td>\n",
              "      <td>0.000000</td>\n",
              "      <td>0.000000</td>\n",
              "      <td>0.000000</td>\n",
              "    </tr>\n",
              "    <tr>\n",
              "      <th>4</th>\n",
              "      <td>0.870708</td>\n",
              "      <td>0.125601</td>\n",
              "      <td>0.003502</td>\n",
              "      <td>0.000174</td>\n",
              "      <td>0.000007</td>\n",
              "      <td>0.000000</td>\n",
              "      <td>0.000000</td>\n",
              "      <td>0.000007</td>\n",
              "      <td>0.000000</td>\n",
              "      <td>0.000000</td>\n",
              "    </tr>\n",
              "    <tr>\n",
              "      <th>5</th>\n",
              "      <td>0.836140</td>\n",
              "      <td>0.146370</td>\n",
              "      <td>0.017047</td>\n",
              "      <td>0.000437</td>\n",
              "      <td>0.000000</td>\n",
              "      <td>0.000000</td>\n",
              "      <td>0.000000</td>\n",
              "      <td>0.000005</td>\n",
              "      <td>0.000000</td>\n",
              "      <td>0.000000</td>\n",
              "    </tr>\n",
              "    <tr>\n",
              "      <th>6</th>\n",
              "      <td>0.830871</td>\n",
              "      <td>0.147482</td>\n",
              "      <td>0.021134</td>\n",
              "      <td>0.000503</td>\n",
              "      <td>0.000005</td>\n",
              "      <td>0.000000</td>\n",
              "      <td>0.000005</td>\n",
              "      <td>0.000000</td>\n",
              "      <td>0.000000</td>\n",
              "      <td>0.000000</td>\n",
              "    </tr>\n",
              "    <tr>\n",
              "      <th>7</th>\n",
              "      <td>0.829928</td>\n",
              "      <td>0.147047</td>\n",
              "      <td>0.022287</td>\n",
              "      <td>0.000709</td>\n",
              "      <td>0.000019</td>\n",
              "      <td>0.000005</td>\n",
              "      <td>0.000000</td>\n",
              "      <td>0.000000</td>\n",
              "      <td>0.000005</td>\n",
              "      <td>0.000000</td>\n",
              "    </tr>\n",
              "    <tr>\n",
              "      <th>8</th>\n",
              "      <td>0.840798</td>\n",
              "      <td>0.136560</td>\n",
              "      <td>0.021434</td>\n",
              "      <td>0.001131</td>\n",
              "      <td>0.000055</td>\n",
              "      <td>0.000014</td>\n",
              "      <td>0.000005</td>\n",
              "      <td>0.000000</td>\n",
              "      <td>0.000000</td>\n",
              "      <td>0.000005</td>\n",
              "    </tr>\n",
              "  </tbody>\n",
              "</table>\n",
              "</div>"
            ],
            "text/plain": [
              "retailer        1         2         3   ...        11        14        23\n",
              "month                                   ...                              \n",
              "1         0.962346  0.037282  0.000266  ...  0.000000  0.000000  0.000000\n",
              "2         0.941878  0.057625  0.000414  ...  0.000000  0.000000  0.000000\n",
              "3         0.894943  0.103784  0.001185  ...  0.000000  0.000000  0.000000\n",
              "4         0.870708  0.125601  0.003502  ...  0.000007  0.000000  0.000000\n",
              "5         0.836140  0.146370  0.017047  ...  0.000005  0.000000  0.000000\n",
              "6         0.830871  0.147482  0.021134  ...  0.000000  0.000000  0.000000\n",
              "7         0.829928  0.147047  0.022287  ...  0.000000  0.000005  0.000000\n",
              "8         0.840798  0.136560  0.021434  ...  0.000000  0.000000  0.000005\n",
              "\n",
              "[8 rows x 10 columns]"
            ]
          },
          "metadata": {
            "tags": []
          },
          "execution_count": 137
        }
      ]
    },
    {
      "cell_type": "code",
      "metadata": {
        "id": "DA8YU3qf9STW",
        "outputId": "601a5c34-c3c8-48b1-c8be-f86262acec18",
        "colab": {
          "base_uri": "https://localhost:8080/",
          "height": 298
        }
      },
      "source": [
        "ax = (grouped_retail[[1, 2, 3]]*100).plot(figsize=(6, 4))\n",
        "ax.set_xlabel(\"месяцы\")\n",
        "ax.set_ylabel(\"процент пользователей\")\n",
        "ax.legend([\"1 магазин\", \"2 магазина\", \"3 магазина\"])"
      ],
      "execution_count": 146,
      "outputs": [
        {
          "output_type": "execute_result",
          "data": {
            "text/plain": [
              "<matplotlib.legend.Legend at 0x7f3577a6c080>"
            ]
          },
          "metadata": {
            "tags": []
          },
          "execution_count": 146
        },
        {
          "output_type": "display_data",
          "data": {
            "image/png": "[encoded data removed]",
            "text/plain": [
              "<Figure size 432x288 with 1 Axes>"
            ]
          },
          "metadata": {
            "tags": [],
            "needs_background": "light"
          }
        }
      ]
    }
  ]
}